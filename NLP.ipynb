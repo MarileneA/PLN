{
 "cells": [
  {
   "cell_type": "markdown",
   "id": "3c6797b5-ee54-478e-8041-fa4f99cb7459",
   "metadata": {},
   "source": [
    "# PLN"
   ]
  },
  {
   "cell_type": "markdown",
   "id": "2f5e0f0a-fd66-45f8-becd-03b1ac3f6d9e",
   "metadata": {},
   "source": [
    "| Column          | Description                                       |\r\n",
    "|-----------------|---------------------------------------------------|\r\n",
    "| label           | Classe pertencente: Sarcasmo ou Não               |\r\n",
    "| comment         | Texto do comentário                               |\r\n",
    "| author          | Autor do comentário                               |\r\n",
    "| subreddit       | Assunto comentado                                 |\r\n",
    "| score           | Diferença entre votos positivos e negativos      |\r\n",
    "| date            | Data do comentário                                |\r\n",
    "| parent_comment  | Comentário de origem                              |valor |   |"
   ]
  },
  {
   "cell_type": "markdown",
   "id": "5251864b-feaf-4a50-9b96-3d6b10bf4f8e",
   "metadata": {},
   "source": [
    "#Imports"
   ]
  },
  {
   "cell_type": "code",
   "execution_count": 2,
   "id": "8023ada1-9ed0-4254-a769-6c1a18ca7b6f",
   "metadata": {},
   "outputs": [],
   "source": [
    "import string\n",
    "import nltk\n",
    "import pandas as pd\n",
    "import numpy as np\n",
    "import seaborn as sns\n",
    "from sklearn.decomposition   import PCA\n",
    "from nltk.corpus             import stopwords\n",
    "from nltk.stem               import PorterStemmer\n",
    "from sklearn.preprocessing   import StandardScaler\n",
    "from sklearn.model_selection import train_test_split\n",
    "from sklearn                 import model_selection, naive_bayes\n",
    "from sklearn                 import svm\n",
    "from sklearn.metrics         import accuracy_score, precision_score, recall_score, f1_score\n",
    "\n",
    "%matplotlib inline"
   ]
  },
  {
   "cell_type": "markdown",
   "id": "d15c043e-47f9-427e-ab38-22d29842a542",
   "metadata": {},
   "source": [
    "## Helper Functions"
   ]
  },
  {
   "cell_type": "code",
   "execution_count": 3,
   "id": "63dbb18c-1df5-49ff-afee-209f91f8c6d9",
   "metadata": {},
   "outputs": [],
   "source": [
    "# Função para formatar notação científica\n",
    "pd.set_option('display.float_format', lambda x: '%.2f' % x)\n",
    "\n",
    "# Tamanho dos Graficos\n",
    "sns.set(style = \"darkgrid\")\n",
    "sns.set(rc={\"figure.figsize\":(15, 10)})"
   ]
  },
  {
   "cell_type": "markdown",
   "id": "c73c6e48-8c64-44a1-8cda-d838a3f4410b",
   "metadata": {},
   "source": [
    "## Load Data"
   ]
  },
  {
   "cell_type": "code",
   "execution_count": 4,
   "id": "c67d1396-edbe-4894-b475-61cae6c164ec",
   "metadata": {},
   "outputs": [],
   "source": [
    "cmt_0 = pd.read_csv('C:/Users/PC/projetos/PUC/preprocessamento/COMENTARIOS_0.csv', delimiter=',')\n",
    "cmt_1 = pd.read_csv('C:/Users/PC/projetos/PUC/preprocessamento/COMENTARIOS_1.csv', delimiter=',')"
   ]
  },
  {
   "cell_type": "code",
   "execution_count": 5,
   "id": "3b16d5e5-5d23-426d-9865-828030eaf93b",
   "metadata": {},
   "outputs": [
    {
     "data": {
      "text/plain": [
       "(505413, 7)"
      ]
     },
     "execution_count": 5,
     "metadata": {},
     "output_type": "execute_result"
    }
   ],
   "source": [
    "cmt_1.shape"
   ]
  },
  {
   "cell_type": "markdown",
   "id": "2b57d1d8-3fff-45ff-ae88-d0b11db80efc",
   "metadata": {},
   "source": [
    "## Concatenar os dados"
   ]
  },
  {
   "cell_type": "code",
   "execution_count": 6,
   "id": "e0467307-dff2-48ec-b0a3-c9a0b6841176",
   "metadata": {},
   "outputs": [],
   "source": [
    "cmt = pd.concat([cmt_0, cmt_1], axis=0)"
   ]
  },
  {
   "cell_type": "code",
   "execution_count": 7,
   "id": "9f9efb59-cc20-4415-88b1-648b646becf3",
   "metadata": {},
   "outputs": [
    {
     "data": {
      "text/html": [
       "<div>\n",
       "<style scoped>\n",
       "    .dataframe tbody tr th:only-of-type {\n",
       "        vertical-align: middle;\n",
       "    }\n",
       "\n",
       "    .dataframe tbody tr th {\n",
       "        vertical-align: top;\n",
       "    }\n",
       "\n",
       "    .dataframe thead th {\n",
       "        text-align: right;\n",
       "    }\n",
       "</style>\n",
       "<table border=\"1\" class=\"dataframe\">\n",
       "  <thead>\n",
       "    <tr style=\"text-align: right;\">\n",
       "      <th></th>\n",
       "      <th>label</th>\n",
       "      <th>comment</th>\n",
       "      <th>author</th>\n",
       "      <th>subreddit</th>\n",
       "      <th>score</th>\n",
       "      <th>date</th>\n",
       "      <th>parent_comment</th>\n",
       "    </tr>\n",
       "  </thead>\n",
       "  <tbody>\n",
       "    <tr>\n",
       "      <th>0</th>\n",
       "      <td>0</td>\n",
       "      <td>NC and NH.</td>\n",
       "      <td>Trumpbart</td>\n",
       "      <td>politics</td>\n",
       "      <td>2.00</td>\n",
       "      <td>2016-10</td>\n",
       "      <td>Yeah, I get that argument. At this point, I'd ...</td>\n",
       "    </tr>\n",
       "    <tr>\n",
       "      <th>1</th>\n",
       "      <td>0</td>\n",
       "      <td>You do know west teams play against west teams...</td>\n",
       "      <td>Shbshb906</td>\n",
       "      <td>nba</td>\n",
       "      <td>-4.00</td>\n",
       "      <td>2016-11</td>\n",
       "      <td>The blazers and Mavericks (The wests 5 and 6 s...</td>\n",
       "    </tr>\n",
       "    <tr>\n",
       "      <th>2</th>\n",
       "      <td>0</td>\n",
       "      <td>They were underdogs earlier today, but since G...</td>\n",
       "      <td>Creepeth</td>\n",
       "      <td>nfl</td>\n",
       "      <td>3.00</td>\n",
       "      <td>2016-09</td>\n",
       "      <td>They're favored to win.</td>\n",
       "    </tr>\n",
       "    <tr>\n",
       "      <th>3</th>\n",
       "      <td>0</td>\n",
       "      <td>This meme isn't funny none of the \"new york ni...</td>\n",
       "      <td>icebrotha</td>\n",
       "      <td>BlackPeopleTwitter</td>\n",
       "      <td>-8.00</td>\n",
       "      <td>2016-10</td>\n",
       "      <td>deadass don't kill my buzz</td>\n",
       "    </tr>\n",
       "    <tr>\n",
       "      <th>4</th>\n",
       "      <td>0</td>\n",
       "      <td>I could use one of those tools.</td>\n",
       "      <td>cush2push</td>\n",
       "      <td>MaddenUltimateTeam</td>\n",
       "      <td>6.00</td>\n",
       "      <td>2016-12</td>\n",
       "      <td>Yep can confirm I saw the tool they use for th...</td>\n",
       "    </tr>\n",
       "  </tbody>\n",
       "</table>\n",
       "</div>"
      ],
      "text/plain": [
       "   label                                            comment     author  \\\n",
       "0      0                                         NC and NH.  Trumpbart   \n",
       "1      0  You do know west teams play against west teams...  Shbshb906   \n",
       "2      0  They were underdogs earlier today, but since G...   Creepeth   \n",
       "3      0  This meme isn't funny none of the \"new york ni...  icebrotha   \n",
       "4      0                    I could use one of those tools.  cush2push   \n",
       "\n",
       "            subreddit  score     date  \\\n",
       "0            politics   2.00  2016-10   \n",
       "1                 nba  -4.00  2016-11   \n",
       "2                 nfl   3.00  2016-09   \n",
       "3  BlackPeopleTwitter  -8.00  2016-10   \n",
       "4  MaddenUltimateTeam   6.00  2016-12   \n",
       "\n",
       "                                      parent_comment  \n",
       "0  Yeah, I get that argument. At this point, I'd ...  \n",
       "1  The blazers and Mavericks (The wests 5 and 6 s...  \n",
       "2                            They're favored to win.  \n",
       "3                         deadass don't kill my buzz  \n",
       "4  Yep can confirm I saw the tool they use for th...  "
      ]
     },
     "execution_count": 7,
     "metadata": {},
     "output_type": "execute_result"
    }
   ],
   "source": [
    "cmt.head()"
   ]
  },
  {
   "cell_type": "markdown",
   "id": "0a713adb-c14b-43fa-a968-a302e2f37310",
   "metadata": {},
   "source": [
    "# Data Description"
   ]
  },
  {
   "cell_type": "code",
   "execution_count": 8,
   "id": "d6937776-7105-43ad-9a6d-0279e4485c1f",
   "metadata": {},
   "outputs": [],
   "source": [
    "df1 = cmt.copy()"
   ]
  },
  {
   "cell_type": "markdown",
   "id": "1b42ec61-068f-4020-ad51-77ce8df7d290",
   "metadata": {},
   "source": [
    "## Data Dimension"
   ]
  },
  {
   "cell_type": "code",
   "execution_count": 9,
   "id": "fbfae958-fc2f-4e7b-8a7f-273ced9edf4d",
   "metadata": {},
   "outputs": [
    {
     "name": "stdout",
     "output_type": "stream",
     "text": [
      "Number of Columns: 7\n",
      "\n",
      "Number of Rows: 1010826\n"
     ]
    }
   ],
   "source": [
    "print(f'Number of Columns: {df1.shape[1]}\\n')\n",
    "print(f'Number of Rows: {df1.shape[0]}')\n"
   ]
  },
  {
   "cell_type": "markdown",
   "id": "98324678-8f7c-429a-87a8-e6ce25190eea",
   "metadata": {},
   "source": [
    "## Data types"
   ]
  },
  {
   "cell_type": "code",
   "execution_count": 10,
   "id": "fac8510c-9eb8-4c26-a6d1-f3b03d01700f",
   "metadata": {},
   "outputs": [
    {
     "data": {
      "text/plain": [
       "label               int64\n",
       "comment            object\n",
       "author             object\n",
       "subreddit          object\n",
       "score             float64\n",
       "date               object\n",
       "parent_comment     object\n",
       "dtype: object"
      ]
     },
     "execution_count": 10,
     "metadata": {},
     "output_type": "execute_result"
    }
   ],
   "source": [
    "df1.dtypes"
   ]
  },
  {
   "cell_type": "markdown",
   "id": "f81c7b1b-5162-45f6-98d5-9784bd4cf2c8",
   "metadata": {},
   "source": [
    "## Check NA"
   ]
  },
  {
   "cell_type": "code",
   "execution_count": 11,
   "id": "601456f1-e1db-4150-b087-7e44883484fe",
   "metadata": {},
   "outputs": [
    {
     "data": {
      "text/plain": [
       "label              0\n",
       "comment           55\n",
       "author             0\n",
       "subreddit          3\n",
       "score              4\n",
       "date               0\n",
       "parent_comment     0\n",
       "dtype: int64"
      ]
     },
     "execution_count": 11,
     "metadata": {},
     "output_type": "execute_result"
    }
   ],
   "source": [
    "df1.isna().sum()"
   ]
  },
  {
   "cell_type": "markdown",
   "id": "993368e8-85de-4410-a091-418eee72bfe3",
   "metadata": {},
   "source": [
    "## Drop NA"
   ]
  },
  {
   "cell_type": "markdown",
   "id": "5a57b20c-556b-4e60-8f34-5ff53a9b5ec7",
   "metadata": {},
   "source": [
    "Os valores NA não são muitos. Nesse primeiro ciclo a decisão é de excluir."
   ]
  },
  {
   "cell_type": "code",
   "execution_count": 12,
   "id": "8c83967f-df7d-49b0-8c84-777feb89cdcb",
   "metadata": {},
   "outputs": [],
   "source": [
    "df1.dropna(inplace=True)"
   ]
  },
  {
   "cell_type": "markdown",
   "id": "f61c89bb-61a7-48b7-815b-e87e0e193f8c",
   "metadata": {},
   "source": [
    "## Descriptive Statistics"
   ]
  },
  {
   "cell_type": "code",
   "execution_count": 13,
   "id": "d498761b-9102-4695-8fb8-2c9ea7f89bbb",
   "metadata": {},
   "outputs": [],
   "source": [
    "num_attributes = df1.select_dtypes(include=['int64', 'float64'])\n",
    "cat_attributes = df1.select_dtypes(exclude=['int64', 'float64', 'datetime64[ns]'])"
   ]
  },
  {
   "cell_type": "markdown",
   "id": "89d3da0b-3839-4df1-a90d-de6ccd6bf850",
   "metadata": {},
   "source": [
    "### Numerical Attributes"
   ]
  },
  {
   "cell_type": "code",
   "execution_count": 14,
   "id": "bf1525e0-49f2-4c64-bd6f-1c22d4a755bf",
   "metadata": {},
   "outputs": [
    {
     "data": {
      "text/html": [
       "<div>\n",
       "<style scoped>\n",
       "    .dataframe tbody tr th:only-of-type {\n",
       "        vertical-align: middle;\n",
       "    }\n",
       "\n",
       "    .dataframe tbody tr th {\n",
       "        vertical-align: top;\n",
       "    }\n",
       "\n",
       "    .dataframe thead th {\n",
       "        text-align: right;\n",
       "    }\n",
       "</style>\n",
       "<table border=\"1\" class=\"dataframe\">\n",
       "  <thead>\n",
       "    <tr style=\"text-align: right;\">\n",
       "      <th></th>\n",
       "      <th>attributes</th>\n",
       "      <th>min</th>\n",
       "      <th>max</th>\n",
       "      <th>range</th>\n",
       "      <th>mean</th>\n",
       "      <th>median</th>\n",
       "      <th>std</th>\n",
       "      <th>skew</th>\n",
       "      <th>kurtosis</th>\n",
       "    </tr>\n",
       "  </thead>\n",
       "  <tbody>\n",
       "    <tr>\n",
       "      <th>0</th>\n",
       "      <td>label</td>\n",
       "      <td>0.00</td>\n",
       "      <td>1.00</td>\n",
       "      <td>1.00</td>\n",
       "      <td>0.50</td>\n",
       "      <td>0.00</td>\n",
       "      <td>0.50</td>\n",
       "      <td>0.00</td>\n",
       "      <td>-2.00</td>\n",
       "    </tr>\n",
       "    <tr>\n",
       "      <th>1</th>\n",
       "      <td>score</td>\n",
       "      <td>-507.00</td>\n",
       "      <td>9999999.00</td>\n",
       "      <td>10000506.00</td>\n",
       "      <td>17.77</td>\n",
       "      <td>2.00</td>\n",
       "      <td>9996.32</td>\n",
       "      <td>991.43</td>\n",
       "      <td>990900.86</td>\n",
       "    </tr>\n",
       "  </tbody>\n",
       "</table>\n",
       "</div>"
      ],
      "text/plain": [
       "  attributes     min        max       range  mean  median     std   skew  \\\n",
       "0      label    0.00       1.00        1.00  0.50    0.00    0.50   0.00   \n",
       "1      score -507.00 9999999.00 10000506.00 17.77    2.00 9996.32 991.43   \n",
       "\n",
       "   kurtosis  \n",
       "0     -2.00  \n",
       "1 990900.86  "
      ]
     },
     "execution_count": 14,
     "metadata": {},
     "output_type": "execute_result"
    }
   ],
   "source": [
    "#central tendency - mean, median, \n",
    "ct1 = pd.DataFrame(num_attributes.apply(np.mean) ).T\n",
    "ct2 = pd.DataFrame(num_attributes.apply(np.median)).T\n",
    "\n",
    "#Dispersion - std, \n",
    "d1 = pd.DataFrame(num_attributes.apply(np.std)).T\n",
    "d2 = pd.DataFrame(num_attributes.apply(np.min)).T\n",
    "d3 = pd.DataFrame(num_attributes.apply(np.max)).T\n",
    "d4 = pd.DataFrame(num_attributes.apply(lambda x: x.max() - x.min())).T\n",
    "d5 = pd.DataFrame(num_attributes.apply(lambda x: x.skew()) ).T\n",
    "d6 = pd.DataFrame(num_attributes.apply(lambda x: x.kurtosis()) ).T\n",
    "\n",
    "#Merge\n",
    "n = pd.concat([d2, d3, d4, ct1, ct2, d1, d5, d6]).T.reset_index()\n",
    "n.columns = ['attributes', 'min', 'max', 'range','mean', 'median', 'std','skew','kurtosis']\n",
    "n"
   ]
  },
  {
   "cell_type": "markdown",
   "id": "3a519926-32a6-4d80-a51b-6c34db3bec4f",
   "metadata": {},
   "source": [
    "## Check data balance"
   ]
  },
  {
   "cell_type": "code",
   "execution_count": 15,
   "id": "ce508b39-9dfe-43fb-84cb-ebacefec9ddf",
   "metadata": {},
   "outputs": [
    {
     "name": "stdout",
     "output_type": "stream",
     "text": [
      "label\n",
      "0   0.50\n",
      "1   0.50\n",
      "Name: count, dtype: float64\n"
     ]
    },
    {
     "data": {
      "image/png": "[encoded data removed]",
      "text/plain": [
       "<Figure size 1500x1000 with 1 Axes>"
      ]
     },
     "metadata": {},
     "output_type": "display_data"
    }
   ],
   "source": [
    "print(df1['label'].value_counts()/ len(df1))\n",
    "sns.barplot(df1['label'].value_counts()/ len(df1));"
   ]
  },
  {
   "cell_type": "markdown",
   "id": "53b121a2-493f-4fed-9cab-0013da3a69a5",
   "metadata": {},
   "source": [
    "# Tratamento dos Dados"
   ]
  },
  {
   "cell_type": "code",
   "execution_count": 16,
   "id": "ed536ac3-3a58-490f-80df-a64f42762090",
   "metadata": {},
   "outputs": [],
   "source": [
    "df2 = df1.copy()"
   ]
  },
  {
   "cell_type": "markdown",
   "id": "824cd2da-a03e-4160-b539-ba5b126974a2",
   "metadata": {},
   "source": [
    "## Check Outliers"
   ]
  },
  {
   "cell_type": "markdown",
   "id": "6b8ea997-70b2-4fbf-b7b9-b895e753ac57",
   "metadata": {},
   "source": [
    "verificar e tratar outliers é uma prática essencial para garantir a qualidade dos dados, a precisão das análises estatísticas e a robustez dos modelos, contribuindo para uma interpretação mais confiável e precisa dos dados."
   ]
  },
  {
   "cell_type": "markdown",
   "id": "8c7400e5-b6be-47a9-a91c-54ecb5a8777d",
   "metadata": {},
   "source": [
    "### Tratamento de Outliers - Usando Média"
   ]
  },
  {
   "cell_type": "code",
   "execution_count": 17,
   "id": "682bcc39-d0c9-4952-b1db-e98c023b69f6",
   "metadata": {},
   "outputs": [
    {
     "name": "stdout",
     "output_type": "stream",
     "text": [
      "Média score:  6.406366582530469\n"
     ]
    }
   ],
   "source": [
    "df2['score'] = np.where(df2['score'] >= df2['score'].quantile(0.9998),\n",
    "                       df2[( df2['score'] > df2['score'].quantile(0.0002)) &\n",
    "                            (df2['score'] < df2['score'].quantile(0.9998))]['score'].mean(),\n",
    "                            df2['score'])\n",
    "                         \n",
    "print('Média score: ', df2['score'].mean() )\n",
    "                        "
   ]
  },
  {
   "cell_type": "markdown",
   "id": "77909b15-dcb1-4f89-9e57-37ee94c4fc7e",
   "metadata": {},
   "source": [
    "# Feature engineering"
   ]
  },
  {
   "cell_type": "code",
   "execution_count": 19,
   "id": "3fe78118-9a56-44bb-b9f7-52e0ea56ffac",
   "metadata": {},
   "outputs": [],
   "source": [
    "df3 = df2.copy()"
   ]
  },
  {
   "cell_type": "code",
   "execution_count": 20,
   "id": "837d8ee6-26d4-4a0f-83fa-85936e7bb3b1",
   "metadata": {},
   "outputs": [],
   "source": [
    "# criar coluna com a quantidade de palavras contidas na coluna comment\n",
    "df3['comment_wcount'] = df3['comment'].str.split().str.len()\n",
    "\n"
   ]
  },
  {
   "cell_type": "code",
   "execution_count": 21,
   "id": "3ee4f984-1528-40fa-835d-33aff72e30fb",
   "metadata": {},
   "outputs": [],
   "source": [
    "# criar coluna com a quantidade de palavras contidas na coluna parent\n",
    "df3['parent_comment_wcountt'] = df3['parent_comment'].str.split().str.len() "
   ]
  },
  {
   "cell_type": "code",
   "execution_count": 22,
   "id": "93e41392-a23c-4d8a-85e2-eada8694f209",
   "metadata": {},
   "outputs": [],
   "source": [
    "# Converter para string\n",
    "df3['comment'] = df3['comment'].astype(str)\n",
    "df3['parent_comment_wcountt'] = df3['parent_comment'].astype(str) \n",
    "\n",
    "#Criar as varoáveis para armazenar a quantidade de caracteres da coluna comment\n",
    "df3['comment_char'] = df3['comment'].apply(len)\n",
    "\n",
    "#Criar as varoáveis para armazenar a quantidade de caracteres da coluna parent_comment\n",
    "df3['parent_comment_char'] = df3['parent_comment'].apply(len) "
   ]
  },
  {
   "cell_type": "code",
   "execution_count": 23,
   "id": "1cdebc53-adc2-4923-aae1-4287ad7c370b",
   "metadata": {},
   "outputs": [
    {
     "data": {
      "text/html": [
       "<div>\n",
       "<style scoped>\n",
       "    .dataframe tbody tr th:only-of-type {\n",
       "        vertical-align: middle;\n",
       "    }\n",
       "\n",
       "    .dataframe tbody tr th {\n",
       "        vertical-align: top;\n",
       "    }\n",
       "\n",
       "    .dataframe thead th {\n",
       "        text-align: right;\n",
       "    }\n",
       "</style>\n",
       "<table border=\"1\" class=\"dataframe\">\n",
       "  <thead>\n",
       "    <tr style=\"text-align: right;\">\n",
       "      <th></th>\n",
       "      <th>label</th>\n",
       "      <th>comment</th>\n",
       "      <th>author</th>\n",
       "      <th>subreddit</th>\n",
       "      <th>score</th>\n",
       "      <th>date</th>\n",
       "      <th>parent_comment</th>\n",
       "      <th>comment_wcount</th>\n",
       "      <th>parent_comment_wcountt</th>\n",
       "      <th>comment_char</th>\n",
       "      <th>parent_comment_char</th>\n",
       "    </tr>\n",
       "  </thead>\n",
       "  <tbody>\n",
       "    <tr>\n",
       "      <th>0</th>\n",
       "      <td>0</td>\n",
       "      <td>NC and NH.</td>\n",
       "      <td>Trumpbart</td>\n",
       "      <td>politics</td>\n",
       "      <td>2.00</td>\n",
       "      <td>2016-10</td>\n",
       "      <td>Yeah, I get that argument. At this point, I'd ...</td>\n",
       "      <td>3</td>\n",
       "      <td>Yeah, I get that argument. At this point, I'd ...</td>\n",
       "      <td>10</td>\n",
       "      <td>80</td>\n",
       "    </tr>\n",
       "    <tr>\n",
       "      <th>1</th>\n",
       "      <td>0</td>\n",
       "      <td>You do know west teams play against west teams...</td>\n",
       "      <td>Shbshb906</td>\n",
       "      <td>nba</td>\n",
       "      <td>-4.00</td>\n",
       "      <td>2016-11</td>\n",
       "      <td>The blazers and Mavericks (The wests 5 and 6 s...</td>\n",
       "      <td>14</td>\n",
       "      <td>The blazers and Mavericks (The wests 5 and 6 s...</td>\n",
       "      <td>74</td>\n",
       "      <td>134</td>\n",
       "    </tr>\n",
       "    <tr>\n",
       "      <th>2</th>\n",
       "      <td>0</td>\n",
       "      <td>They were underdogs earlier today, but since G...</td>\n",
       "      <td>Creepeth</td>\n",
       "      <td>nfl</td>\n",
       "      <td>3.00</td>\n",
       "      <td>2016-09</td>\n",
       "      <td>They're favored to win.</td>\n",
       "      <td>19</td>\n",
       "      <td>They're favored to win.</td>\n",
       "      <td>121</td>\n",
       "      <td>23</td>\n",
       "    </tr>\n",
       "    <tr>\n",
       "      <th>3</th>\n",
       "      <td>0</td>\n",
       "      <td>This meme isn't funny none of the \"new york ni...</td>\n",
       "      <td>icebrotha</td>\n",
       "      <td>BlackPeopleTwitter</td>\n",
       "      <td>-8.00</td>\n",
       "      <td>2016-10</td>\n",
       "      <td>deadass don't kill my buzz</td>\n",
       "      <td>12</td>\n",
       "      <td>deadass don't kill my buzz</td>\n",
       "      <td>60</td>\n",
       "      <td>26</td>\n",
       "    </tr>\n",
       "    <tr>\n",
       "      <th>4</th>\n",
       "      <td>0</td>\n",
       "      <td>I could use one of those tools.</td>\n",
       "      <td>cush2push</td>\n",
       "      <td>MaddenUltimateTeam</td>\n",
       "      <td>6.00</td>\n",
       "      <td>2016-12</td>\n",
       "      <td>Yep can confirm I saw the tool they use for th...</td>\n",
       "      <td>7</td>\n",
       "      <td>Yep can confirm I saw the tool they use for th...</td>\n",
       "      <td>31</td>\n",
       "      <td>85</td>\n",
       "    </tr>\n",
       "  </tbody>\n",
       "</table>\n",
       "</div>"
      ],
      "text/plain": [
       "   label                                            comment     author  \\\n",
       "0      0                                         NC and NH.  Trumpbart   \n",
       "1      0  You do know west teams play against west teams...  Shbshb906   \n",
       "2      0  They were underdogs earlier today, but since G...   Creepeth   \n",
       "3      0  This meme isn't funny none of the \"new york ni...  icebrotha   \n",
       "4      0                    I could use one of those tools.  cush2push   \n",
       "\n",
       "            subreddit  score     date  \\\n",
       "0            politics   2.00  2016-10   \n",
       "1                 nba  -4.00  2016-11   \n",
       "2                 nfl   3.00  2016-09   \n",
       "3  BlackPeopleTwitter  -8.00  2016-10   \n",
       "4  MaddenUltimateTeam   6.00  2016-12   \n",
       "\n",
       "                                      parent_comment  comment_wcount  \\\n",
       "0  Yeah, I get that argument. At this point, I'd ...               3   \n",
       "1  The blazers and Mavericks (The wests 5 and 6 s...              14   \n",
       "2                            They're favored to win.              19   \n",
       "3                         deadass don't kill my buzz              12   \n",
       "4  Yep can confirm I saw the tool they use for th...               7   \n",
       "\n",
       "                              parent_comment_wcountt  comment_char  \\\n",
       "0  Yeah, I get that argument. At this point, I'd ...            10   \n",
       "1  The blazers and Mavericks (The wests 5 and 6 s...            74   \n",
       "2                            They're favored to win.           121   \n",
       "3                         deadass don't kill my buzz            60   \n",
       "4  Yep can confirm I saw the tool they use for th...            31   \n",
       "\n",
       "   parent_comment_char  \n",
       "0                   80  \n",
       "1                  134  \n",
       "2                   23  \n",
       "3                   26  \n",
       "4                   85  "
      ]
     },
     "execution_count": 23,
     "metadata": {},
     "output_type": "execute_result"
    }
   ],
   "source": [
    "df3.head()"
   ]
  },
  {
   "cell_type": "markdown",
   "id": "7f364532-c551-4ac8-a34f-033f7fb99f0a",
   "metadata": {},
   "source": [
    "# Data Analysis"
   ]
  },
  {
   "cell_type": "code",
   "execution_count": 24,
   "id": "dcef94db-42be-4cb0-9cad-b1b1de18b0bf",
   "metadata": {},
   "outputs": [],
   "source": [
    "df4 = df3.copy()"
   ]
  },
  {
   "cell_type": "markdown",
   "id": "141f1542-a9a4-40e9-8531-5c5442ce437f",
   "metadata": {},
   "source": [
    "## 1. Qual o percentual de cada classe de comentários"
   ]
  },
  {
   "cell_type": "code",
   "execution_count": 25,
   "id": "e05d674d-83e6-4f5e-a655-603ff0fc50e5",
   "metadata": {},
   "outputs": [],
   "source": [
    "percentuais = pd.DataFrame()\n",
    "percentuais['qtd'] =  df4.groupby('label')['label'].count()\n",
    "percentuais['%'] = round((percentuais['qtd'] / percentuais['qtd'].sum())*100)"
   ]
  },
  {
   "cell_type": "code",
   "execution_count": 26,
   "id": "385c2d3a-fe4f-44fa-a226-fb5b5abfdeb8",
   "metadata": {},
   "outputs": [
    {
     "data": {
      "text/html": [
       "<div>\n",
       "<style scoped>\n",
       "    .dataframe tbody tr th:only-of-type {\n",
       "        vertical-align: middle;\n",
       "    }\n",
       "\n",
       "    .dataframe tbody tr th {\n",
       "        vertical-align: top;\n",
       "    }\n",
       "\n",
       "    .dataframe thead th {\n",
       "        text-align: right;\n",
       "    }\n",
       "</style>\n",
       "<table border=\"1\" class=\"dataframe\">\n",
       "  <thead>\n",
       "    <tr style=\"text-align: right;\">\n",
       "      <th></th>\n",
       "      <th>qtd</th>\n",
       "      <th>%</th>\n",
       "    </tr>\n",
       "    <tr>\n",
       "      <th>label</th>\n",
       "      <th></th>\n",
       "      <th></th>\n",
       "    </tr>\n",
       "  </thead>\n",
       "  <tbody>\n",
       "    <tr>\n",
       "      <th>0</th>\n",
       "      <td>505396</td>\n",
       "      <td>50.00</td>\n",
       "    </tr>\n",
       "    <tr>\n",
       "      <th>1</th>\n",
       "      <td>505368</td>\n",
       "      <td>50.00</td>\n",
       "    </tr>\n",
       "  </tbody>\n",
       "</table>\n",
       "</div>"
      ],
      "text/plain": [
       "          qtd     %\n",
       "label              \n",
       "0      505396 50.00\n",
       "1      505368 50.00"
      ]
     },
     "execution_count": 26,
     "metadata": {},
     "output_type": "execute_result"
    }
   ],
   "source": [
    "percentuais"
   ]
  },
  {
   "cell_type": "markdown",
   "id": "c155c1ba-6578-45b3-9dd7-7c82ea972773",
   "metadata": {},
   "source": [
    "## Qual autor comenta com mais sarcasmo?"
   ]
  },
  {
   "cell_type": "code",
   "execution_count": 27,
   "id": "b79ae251-3d96-4053-b09f-dff929301558",
   "metadata": {},
   "outputs": [
    {
     "data": {
      "text/plain": [
       "author\n",
       "Biffingston       422\n",
       "pokemon_fetish    216\n",
       "NeonDisease       211\n",
       "ShyBiDude89       202\n",
       "ivsciguy          171\n",
       "Name: author, dtype: int64"
      ]
     },
     "execution_count": 27,
     "metadata": {},
     "output_type": "execute_result"
    }
   ],
   "source": [
    "df4[df4['label'] ==1].groupby('author')['author'].count().nlargest()"
   ]
  },
  {
   "cell_type": "markdown",
   "id": "020e454f-2f2e-451d-ab3e-dabd7aeb7450",
   "metadata": {},
   "source": [
    "## Percentualmente, ao longo do tempo os comentários sarcastico tem aumentado? Plote o gráfico.\n",
    "**Pelo gráfico, nota-se claramente que houve uma queda na quantidade de comentários sarcástico.**"
   ]
  },
  {
   "cell_type": "code",
   "execution_count": 28,
   "id": "d6a86ca0-0321-484d-9438-6c872bd0817b",
   "metadata": {},
   "outputs": [
    {
     "data": {
      "text/html": [
       "<div>\n",
       "<style scoped>\n",
       "    .dataframe tbody tr th:only-of-type {\n",
       "        vertical-align: middle;\n",
       "    }\n",
       "\n",
       "    .dataframe tbody tr th {\n",
       "        vertical-align: top;\n",
       "    }\n",
       "\n",
       "    .dataframe thead th {\n",
       "        text-align: right;\n",
       "    }\n",
       "</style>\n",
       "<table border=\"1\" class=\"dataframe\">\n",
       "  <thead>\n",
       "    <tr style=\"text-align: right;\">\n",
       "      <th></th>\n",
       "      <th>qtd</th>\n",
       "      <th>qtd_sarc</th>\n",
       "      <th>%</th>\n",
       "    </tr>\n",
       "    <tr>\n",
       "      <th>date</th>\n",
       "      <th></th>\n",
       "      <th></th>\n",
       "      <th></th>\n",
       "    </tr>\n",
       "  </thead>\n",
       "  <tbody>\n",
       "    <tr>\n",
       "      <th>2009-01</th>\n",
       "      <td>104</td>\n",
       "      <td>72</td>\n",
       "      <td>69.00</td>\n",
       "    </tr>\n",
       "    <tr>\n",
       "      <th>2009-02</th>\n",
       "      <td>89</td>\n",
       "      <td>57</td>\n",
       "      <td>64.00</td>\n",
       "    </tr>\n",
       "    <tr>\n",
       "      <th>2009-03</th>\n",
       "      <td>105</td>\n",
       "      <td>70</td>\n",
       "      <td>67.00</td>\n",
       "    </tr>\n",
       "    <tr>\n",
       "      <th>2009-04</th>\n",
       "      <td>122</td>\n",
       "      <td>71</td>\n",
       "      <td>58.00</td>\n",
       "    </tr>\n",
       "    <tr>\n",
       "      <th>2009-05</th>\n",
       "      <td>110</td>\n",
       "      <td>68</td>\n",
       "      <td>62.00</td>\n",
       "    </tr>\n",
       "  </tbody>\n",
       "</table>\n",
       "</div>"
      ],
      "text/plain": [
       "         qtd  qtd_sarc     %\n",
       "date                        \n",
       "2009-01  104        72 69.00\n",
       "2009-02   89        57 64.00\n",
       "2009-03  105        70 67.00\n",
       "2009-04  122        71 58.00\n",
       "2009-05  110        68 62.00"
      ]
     },
     "execution_count": 28,
     "metadata": {},
     "output_type": "execute_result"
    }
   ],
   "source": [
    "# Criar o percentual por mês\n",
    "percentual_mes = pd.DataFrame()\n",
    "percentual_mes['qtd'] =  df4.groupby('date')['date'].count()\n",
    "percentual_mes['qtd_sarc'] = df4[df4['label']==1].groupby('date')['label'].count()\n",
    "percentual_mes['%'] = round((percentual_mes['qtd_sarc'] / percentual_mes['qtd'])*100)\n",
    "percentual_mes.head()"
   ]
  },
  {
   "cell_type": "code",
   "execution_count": 29,
   "id": "f49474b2-9db9-4119-9819-6f2b1aee42d7",
   "metadata": {},
   "outputs": [
    {
     "data": {
      "image/png": "[encoded data removed]",
      "text/plain": [
       "<Figure size 2200x500 with 1 Axes>"
      ]
     },
     "metadata": {},
     "output_type": "display_data"
    }
   ],
   "source": [
    "plt.figure(figsize=(22,5))\n",
    "percentual_mes['%'].plot.bar()\n",
    "plt.xticks(rotation = 65);"
   ]
  },
  {
   "cell_type": "markdown",
   "id": "a2be3dc8-cab6-4fbb-8911-e0ff50096b9d",
   "metadata": {},
   "source": [
    "## Percentualmente, olhando a variável subreddit, qual assunto que mais gera comentários sarcásticos? Considerar apenas assuntos com mais de 1000 comentarios"
   ]
  },
  {
   "cell_type": "code",
   "execution_count": 30,
   "id": "6dd8dfe0-c872-48f1-b068-7e24b6879b3d",
   "metadata": {},
   "outputs": [
    {
     "data": {
      "text/html": [
       "<div>\n",
       "<style scoped>\n",
       "    .dataframe tbody tr th:only-of-type {\n",
       "        vertical-align: middle;\n",
       "    }\n",
       "\n",
       "    .dataframe tbody tr th {\n",
       "        vertical-align: top;\n",
       "    }\n",
       "\n",
       "    .dataframe thead th {\n",
       "        text-align: right;\n",
       "    }\n",
       "</style>\n",
       "<table border=\"1\" class=\"dataframe\">\n",
       "  <thead>\n",
       "    <tr style=\"text-align: right;\">\n",
       "      <th></th>\n",
       "      <th>qtd</th>\n",
       "      <th>qtd_sarc</th>\n",
       "      <th>%</th>\n",
       "    </tr>\n",
       "    <tr>\n",
       "      <th>subreddit</th>\n",
       "      <th></th>\n",
       "      <th></th>\n",
       "      <th></th>\n",
       "    </tr>\n",
       "  </thead>\n",
       "  <tbody>\n",
       "    <tr>\n",
       "      <th>creepyPMs</th>\n",
       "      <td>5466</td>\n",
       "      <td>4287.00</td>\n",
       "      <td>78.43</td>\n",
       "    </tr>\n",
       "    <tr>\n",
       "      <th>MensRights</th>\n",
       "      <td>3355</td>\n",
       "      <td>2284.00</td>\n",
       "      <td>68.08</td>\n",
       "    </tr>\n",
       "    <tr>\n",
       "      <th>ShitRedditSays</th>\n",
       "      <td>1284</td>\n",
       "      <td>850.00</td>\n",
       "      <td>66.20</td>\n",
       "    </tr>\n",
       "    <tr>\n",
       "      <th>worldnews</th>\n",
       "      <td>26375</td>\n",
       "      <td>16947.00</td>\n",
       "      <td>64.25</td>\n",
       "    </tr>\n",
       "    <tr>\n",
       "      <th>Libertarian</th>\n",
       "      <td>2562</td>\n",
       "      <td>1640.00</td>\n",
       "      <td>64.01</td>\n",
       "    </tr>\n",
       "    <tr>\n",
       "      <th>...</th>\n",
       "      <td>...</td>\n",
       "      <td>...</td>\n",
       "      <td>...</td>\n",
       "    </tr>\n",
       "    <tr>\n",
       "      <th>BlackPeopleTwitter</th>\n",
       "      <td>1831</td>\n",
       "      <td>695.00</td>\n",
       "      <td>37.96</td>\n",
       "    </tr>\n",
       "    <tr>\n",
       "      <th>science</th>\n",
       "      <td>1126</td>\n",
       "      <td>425.00</td>\n",
       "      <td>37.74</td>\n",
       "    </tr>\n",
       "    <tr>\n",
       "      <th>aww</th>\n",
       "      <td>2493</td>\n",
       "      <td>787.00</td>\n",
       "      <td>31.57</td>\n",
       "    </tr>\n",
       "    <tr>\n",
       "      <th>4chan</th>\n",
       "      <td>1074</td>\n",
       "      <td>264.00</td>\n",
       "      <td>24.58</td>\n",
       "    </tr>\n",
       "    <tr>\n",
       "      <th>Games</th>\n",
       "      <td>1341</td>\n",
       "      <td>305.00</td>\n",
       "      <td>22.74</td>\n",
       "    </tr>\n",
       "  </tbody>\n",
       "</table>\n",
       "<p>154 rows × 3 columns</p>\n",
       "</div>"
      ],
      "text/plain": [
       "                      qtd  qtd_sarc     %\n",
       "subreddit                                \n",
       "creepyPMs            5466   4287.00 78.43\n",
       "MensRights           3355   2284.00 68.08\n",
       "ShitRedditSays       1284    850.00 66.20\n",
       "worldnews           26375  16947.00 64.25\n",
       "Libertarian          2562   1640.00 64.01\n",
       "...                   ...       ...   ...\n",
       "BlackPeopleTwitter   1831    695.00 37.96\n",
       "science              1126    425.00 37.74\n",
       "aww                  2493    787.00 31.57\n",
       "4chan                1074    264.00 24.58\n",
       "Games                1341    305.00 22.74\n",
       "\n",
       "[154 rows x 3 columns]"
      ]
     },
     "execution_count": 30,
     "metadata": {},
     "output_type": "execute_result"
    }
   ],
   "source": [
    "percentual_subreddit = pd.DataFrame()\n",
    "percentual_subreddit['qtd'] = df4.groupby('subreddit')['subreddit'].count()\n",
    "percentual_subreddit['qtd_sarc'] = df4[df4['label']==1].groupby('subreddit')['subreddit'].count()\n",
    "percentual_subreddit['%'] = (percentual_subreddit['qtd_sarc'] / percentual_subreddit['qtd'])*100\n",
    "percentual_subreddit[percentual_subreddit['qtd'] > 1000].sort_values('%', ascending = False)"
   ]
  },
  {
   "cell_type": "markdown",
   "id": "5fa3a75d-6188-4f00-847d-aa8ed24ab962",
   "metadata": {},
   "source": [
    "## Por tipo de comentário, quantas palavras em média tem em comment_wcount e parent_comment_wcount?"
   ]
  },
  {
   "cell_type": "code",
   "execution_count": 31,
   "id": "521292dc-d0ef-4e08-acbc-2dc136a00ef3",
   "metadata": {},
   "outputs": [],
   "source": [
    "#df4.groupby('label')[['comment_wcount', 'parent_comment_wcountt']].mean()"
   ]
  },
  {
   "cell_type": "markdown",
   "id": "03083ed2-51cf-4e65-9610-212e3eb41ad9",
   "metadata": {},
   "source": [
    "## Comentários Sarcásticos são maiores ou menores que os demais? Demonstre com gráfico"
   ]
  },
  {
   "cell_type": "code",
   "execution_count": 32,
   "id": "8dfc8149-09c5-4bb6-a1d9-470c3f2b9b6a",
   "metadata": {
    "scrolled": true
   },
   "outputs": [
    {
     "name": "stderr",
     "output_type": "stream",
     "text": [
      "C:\\Users\\PC\\AppData\\Local\\Temp\\ipykernel_1232\\862373539.py:1: FutureWarning: \n",
      "\n",
      "`shade` is now deprecated in favor of `fill`; setting `fill=True`.\n",
      "This will become an error in seaborn v0.14.0; please update your code.\n",
      "\n",
      "  sns.kdeplot(df4[df4['label']==0]['comment_char'], shade=True, label='normal', color='green', clip= (0,300));\n",
      "C:\\Users\\PC\\AppData\\Local\\Temp\\ipykernel_1232\\862373539.py:2: FutureWarning: \n",
      "\n",
      "`shade` is now deprecated in favor of `fill`; setting `fill=True`.\n",
      "This will become an error in seaborn v0.14.0; please update your code.\n",
      "\n",
      "  sns.kdeplot(df4[df4['label']==1]['comment_char'], shade=True, label='sarcasmo', color='red', clip= (0,300));\n"
     ]
    },
    {
     "data": {
      "image/png": "[encoded data removed]",
      "text/plain": [
       "<Figure size 1500x1000 with 1 Axes>"
      ]
     },
     "metadata": {},
     "output_type": "display_data"
    }
   ],
   "source": [
    "sns.kdeplot(df4[df4['label']==0]['comment_char'], shade=True, label='normal', color='green', clip= (0,300));\n",
    "sns.kdeplot(df4[df4['label']==1]['comment_char'], shade=True, label='sarcasmo', color='red', clip= (0,300));"
   ]
  },
  {
   "cell_type": "markdown",
   "id": "945cf5af-42a0-44d9-a8a6-f3f266f62f6c",
   "metadata": {},
   "source": [
    "É possível notar que os comentários onde há sarcasmo as pessoas usam mais caracteres."
   ]
  },
  {
   "cell_type": "markdown",
   "id": "7d702aa9-9ae4-4e5f-aa2c-e7186a0def2e",
   "metadata": {},
   "source": [
    "## Compare a média percentual do comment com o parent_comment."
   ]
  },
  {
   "cell_type": "code",
   "execution_count": 33,
   "id": "ca2ea687-5c6b-4a49-8e5f-9a18462288b7",
   "metadata": {},
   "outputs": [
    {
     "data": {
      "text/plain": [
       "38.421102397389355"
      ]
     },
     "execution_count": 33,
     "metadata": {},
     "output_type": "execute_result"
    }
   ],
   "source": [
    "(df4['comment_char'] /  (df4['comment_char'] + df4['parent_comment_char'])*100).mean()"
   ]
  },
  {
   "cell_type": "markdown",
   "id": "bbd615f9-65d8-4738-9b1d-4762e1bafc41",
   "metadata": {},
   "source": [
    "# Preprocessamento para mineração de textos"
   ]
  },
  {
   "cell_type": "code",
   "execution_count": 96,
   "id": "26d4c3e7-e608-4e6e-ad0a-9849da772781",
   "metadata": {},
   "outputs": [],
   "source": [
    "# Utilizar técnicas de sample para diminuir os dados\n",
    "df5 = df4.sample(frac=0.008, replace=True, random_state=42).copy()\n",
    "df5.reset_index(inplace=True, drop=True)"
   ]
  },
  {
   "cell_type": "code",
   "execution_count": 97,
   "id": "92ea226f-0933-42e4-b1a2-048bfba5145c",
   "metadata": {},
   "outputs": [
    {
     "data": {
      "text/plain": [
       "(8086, 11)"
      ]
     },
     "execution_count": 97,
     "metadata": {},
     "output_type": "execute_result"
    }
   ],
   "source": [
    "df5.shape"
   ]
  },
  {
   "cell_type": "markdown",
   "id": "22848208-9c14-46ab-9f6c-70f5474f7c6b",
   "metadata": {},
   "source": [
    "## Remove StopWords"
   ]
  },
  {
   "cell_type": "code",
   "execution_count": 98,
   "id": "e835c63a-8780-4c32-bad5-395662c2cfbb",
   "metadata": {},
   "outputs": [],
   "source": [
    "## Função para remocção das stopwords\n",
    "def stop_words_remove(msg):\n",
    "    sempont = [char for char in msg if char not in string.punctuation]\n",
    "    \n",
    "    sempont =  ''.join(sempont)\n",
    "    remStWords = [word for word in sempont.split() if word.lower()\n",
    "                        not in stopwords.words('english')]\n",
    "    st =  PorterStemmer()\n",
    "    return [st.stem(stword) for stword in remStWords]"
   ]
  },
  {
   "cell_type": "markdown",
   "id": "93277f60-c5f0-4d82-9654-76cbb02585cf",
   "metadata": {},
   "source": [
    "## Vectorizer - Word Count (WC)"
   ]
  },
  {
   "cell_type": "code",
   "execution_count": 99,
   "id": "ef6ea6bb-572b-4261-aef4-9e604cbfcd03",
   "metadata": {},
   "outputs": [],
   "source": [
    "from sklearn.feature_extraction.text import CountVectorizer, TfidfTransformer"
   ]
  },
  {
   "cell_type": "code",
   "execution_count": 100,
   "id": "93fde79d-2afd-420e-84d0-13450aa5b71d",
   "metadata": {},
   "outputs": [
    {
     "data": {
      "text/plain": [
       "(8086, 9472)"
      ]
     },
     "execution_count": 100,
     "metadata": {},
     "output_type": "execute_result"
    }
   ],
   "source": [
    "vectorizerWC = CountVectorizer(analyzer= stop_words_remove).fit(df5['comment'])\n",
    "msVetWC = vectorizerWC.transform(df5['comment'])\n",
    "msVetWC.shape"
   ]
  },
  {
   "cell_type": "code",
   "execution_count": 101,
   "id": "1c245491-d244-4e98-bcf3-5066c19d29c6",
   "metadata": {},
   "outputs": [],
   "source": [
    "# Transformar em Dataframe\n",
    "df_msVetWC = pd.DataFrame(msVetWC.todense(), columns=vectorizerWC.get_feature_names_out())\n",
    "                                      "
   ]
  },
  {
   "cell_type": "code",
   "execution_count": 102,
   "id": "c8f836d8-4026-45f7-9bb6-9a73e4e8ac3d",
   "metadata": {},
   "outputs": [
    {
     "data": {
      "text/html": [
       "<div>\n",
       "<style scoped>\n",
       "    .dataframe tbody tr th:only-of-type {\n",
       "        vertical-align: middle;\n",
       "    }\n",
       "\n",
       "    .dataframe tbody tr th {\n",
       "        vertical-align: top;\n",
       "    }\n",
       "\n",
       "    .dataframe thead th {\n",
       "        text-align: right;\n",
       "    }\n",
       "</style>\n",
       "<table border=\"1\" class=\"dataframe\">\n",
       "  <thead>\n",
       "    <tr style=\"text-align: right;\">\n",
       "      <th></th>\n",
       "      <th>label</th>\n",
       "      <th>0</th>\n",
       "      <th>000</th>\n",
       "      <th>010</th>\n",
       "      <th>03</th>\n",
       "      <th>0500</th>\n",
       "      <th>0607</th>\n",
       "      <th>07</th>\n",
       "      <th>08</th>\n",
       "      <th>1</th>\n",
       "      <th>...</th>\n",
       "      <th>zombuck</th>\n",
       "      <th>zone</th>\n",
       "      <th>zoolock</th>\n",
       "      <th>zoom</th>\n",
       "      <th>zooma</th>\n",
       "      <th>zouma</th>\n",
       "      <th>zubat</th>\n",
       "      <th>zucht</th>\n",
       "      <th>zusammenfassung</th>\n",
       "      <th>zwei</th>\n",
       "    </tr>\n",
       "  </thead>\n",
       "  <tbody>\n",
       "    <tr>\n",
       "      <th>0</th>\n",
       "      <td>0</td>\n",
       "      <td>0</td>\n",
       "      <td>0</td>\n",
       "      <td>0</td>\n",
       "      <td>0</td>\n",
       "      <td>0</td>\n",
       "      <td>0</td>\n",
       "      <td>0</td>\n",
       "      <td>0</td>\n",
       "      <td>0</td>\n",
       "      <td>...</td>\n",
       "      <td>0</td>\n",
       "      <td>0</td>\n",
       "      <td>0</td>\n",
       "      <td>0</td>\n",
       "      <td>0</td>\n",
       "      <td>0</td>\n",
       "      <td>0</td>\n",
       "      <td>0</td>\n",
       "      <td>0</td>\n",
       "      <td>0</td>\n",
       "    </tr>\n",
       "    <tr>\n",
       "      <th>1</th>\n",
       "      <td>1</td>\n",
       "      <td>0</td>\n",
       "      <td>0</td>\n",
       "      <td>0</td>\n",
       "      <td>0</td>\n",
       "      <td>0</td>\n",
       "      <td>0</td>\n",
       "      <td>0</td>\n",
       "      <td>0</td>\n",
       "      <td>0</td>\n",
       "      <td>...</td>\n",
       "      <td>0</td>\n",
       "      <td>0</td>\n",
       "      <td>0</td>\n",
       "      <td>0</td>\n",
       "      <td>0</td>\n",
       "      <td>0</td>\n",
       "      <td>0</td>\n",
       "      <td>0</td>\n",
       "      <td>0</td>\n",
       "      <td>0</td>\n",
       "    </tr>\n",
       "    <tr>\n",
       "      <th>2</th>\n",
       "      <td>0</td>\n",
       "      <td>0</td>\n",
       "      <td>0</td>\n",
       "      <td>0</td>\n",
       "      <td>0</td>\n",
       "      <td>0</td>\n",
       "      <td>0</td>\n",
       "      <td>0</td>\n",
       "      <td>0</td>\n",
       "      <td>0</td>\n",
       "      <td>...</td>\n",
       "      <td>0</td>\n",
       "      <td>0</td>\n",
       "      <td>0</td>\n",
       "      <td>0</td>\n",
       "      <td>0</td>\n",
       "      <td>0</td>\n",
       "      <td>0</td>\n",
       "      <td>0</td>\n",
       "      <td>0</td>\n",
       "      <td>0</td>\n",
       "    </tr>\n",
       "    <tr>\n",
       "      <th>3</th>\n",
       "      <td>0</td>\n",
       "      <td>0</td>\n",
       "      <td>0</td>\n",
       "      <td>0</td>\n",
       "      <td>0</td>\n",
       "      <td>0</td>\n",
       "      <td>0</td>\n",
       "      <td>0</td>\n",
       "      <td>0</td>\n",
       "      <td>0</td>\n",
       "      <td>...</td>\n",
       "      <td>0</td>\n",
       "      <td>0</td>\n",
       "      <td>0</td>\n",
       "      <td>0</td>\n",
       "      <td>0</td>\n",
       "      <td>0</td>\n",
       "      <td>0</td>\n",
       "      <td>0</td>\n",
       "      <td>0</td>\n",
       "      <td>0</td>\n",
       "    </tr>\n",
       "    <tr>\n",
       "      <th>4</th>\n",
       "      <td>0</td>\n",
       "      <td>0</td>\n",
       "      <td>0</td>\n",
       "      <td>0</td>\n",
       "      <td>0</td>\n",
       "      <td>0</td>\n",
       "      <td>0</td>\n",
       "      <td>0</td>\n",
       "      <td>0</td>\n",
       "      <td>0</td>\n",
       "      <td>...</td>\n",
       "      <td>0</td>\n",
       "      <td>0</td>\n",
       "      <td>0</td>\n",
       "      <td>0</td>\n",
       "      <td>0</td>\n",
       "      <td>0</td>\n",
       "      <td>0</td>\n",
       "      <td>0</td>\n",
       "      <td>0</td>\n",
       "      <td>0</td>\n",
       "    </tr>\n",
       "  </tbody>\n",
       "</table>\n",
       "<p>5 rows × 9473 columns</p>\n",
       "</div>"
      ],
      "text/plain": [
       "   label  0  000  010  03  0500  0607  07  08  1  ...  zombuck  zone  zoolock  \\\n",
       "0      0  0    0    0   0     0     0   0   0  0  ...        0     0        0   \n",
       "1      1  0    0    0   0     0     0   0   0  0  ...        0     0        0   \n",
       "2      0  0    0    0   0     0     0   0   0  0  ...        0     0        0   \n",
       "3      0  0    0    0   0     0     0   0   0  0  ...        0     0        0   \n",
       "4      0  0    0    0   0     0     0   0   0  0  ...        0     0        0   \n",
       "\n",
       "   zoom  zooma  zouma  zubat  zucht  zusammenfassung  zwei  \n",
       "0     0      0      0      0      0                0     0  \n",
       "1     0      0      0      0      0                0     0  \n",
       "2     0      0      0      0      0                0     0  \n",
       "3     0      0      0      0      0                0     0  \n",
       "4     0      0      0      0      0                0     0  \n",
       "\n",
       "[5 rows x 9473 columns]"
      ]
     },
     "execution_count": 102,
     "metadata": {},
     "output_type": "execute_result"
    }
   ],
   "source": [
    "msWC = pd.concat([df5['label'], df_msVetWC], axis=1)\n",
    "msWC.head()   "
   ]
  },
  {
   "cell_type": "markdown",
   "id": "e6660dfb-729b-4a0b-ad9a-56e0f88d00b4",
   "metadata": {},
   "source": [
    "## Vectorizer -TFIDF"
   ]
  },
  {
   "cell_type": "code",
   "execution_count": 103,
   "id": "8a25268f-5ffd-4e79-8465-368865d52f5d",
   "metadata": {},
   "outputs": [
    {
     "data": {
      "text/plain": [
       "(8086, 9472)"
      ]
     },
     "execution_count": 103,
     "metadata": {},
     "output_type": "execute_result"
    }
   ],
   "source": [
    "vectorizerTfidf =  TfidfTransformer().fit(msVetWC)\n",
    "msvetdfidf = vectorizerTfidf.transform(msVetWC)\n",
    "msvetdfidf.shape"
   ]
  },
  {
   "cell_type": "code",
   "execution_count": 78,
   "id": "3505ffdf-6b46-4adf-ba20-aaee93cfe615",
   "metadata": {},
   "outputs": [
    {
     "data": {
      "text/html": [
       "<div>\n",
       "<style scoped>\n",
       "    .dataframe tbody tr th:only-of-type {\n",
       "        vertical-align: middle;\n",
       "    }\n",
       "\n",
       "    .dataframe tbody tr th {\n",
       "        vertical-align: top;\n",
       "    }\n",
       "\n",
       "    .dataframe thead th {\n",
       "        text-align: right;\n",
       "    }\n",
       "</style>\n",
       "<table border=\"1\" class=\"dataframe\">\n",
       "  <thead>\n",
       "    <tr style=\"text-align: right;\">\n",
       "      <th></th>\n",
       "      <th>label</th>\n",
       "      <th>0</th>\n",
       "      <th>000</th>\n",
       "      <th>010</th>\n",
       "      <th>03</th>\n",
       "      <th>0500</th>\n",
       "      <th>0607</th>\n",
       "      <th>07</th>\n",
       "      <th>08</th>\n",
       "      <th>1</th>\n",
       "      <th>...</th>\n",
       "      <th>zombuck</th>\n",
       "      <th>zone</th>\n",
       "      <th>zoolock</th>\n",
       "      <th>zoom</th>\n",
       "      <th>zooma</th>\n",
       "      <th>zouma</th>\n",
       "      <th>zubat</th>\n",
       "      <th>zucht</th>\n",
       "      <th>zusammenfassung</th>\n",
       "      <th>zwei</th>\n",
       "    </tr>\n",
       "  </thead>\n",
       "  <tbody>\n",
       "    <tr>\n",
       "      <th>0</th>\n",
       "      <td>0</td>\n",
       "      <td>0.00</td>\n",
       "      <td>0.00</td>\n",
       "      <td>0.00</td>\n",
       "      <td>0.00</td>\n",
       "      <td>0.00</td>\n",
       "      <td>0.00</td>\n",
       "      <td>0.00</td>\n",
       "      <td>0.00</td>\n",
       "      <td>0.00</td>\n",
       "      <td>...</td>\n",
       "      <td>0.00</td>\n",
       "      <td>0.00</td>\n",
       "      <td>0.00</td>\n",
       "      <td>0.00</td>\n",
       "      <td>0.00</td>\n",
       "      <td>0.00</td>\n",
       "      <td>0.00</td>\n",
       "      <td>0.00</td>\n",
       "      <td>0.00</td>\n",
       "      <td>0.00</td>\n",
       "    </tr>\n",
       "    <tr>\n",
       "      <th>1</th>\n",
       "      <td>1</td>\n",
       "      <td>0.00</td>\n",
       "      <td>0.00</td>\n",
       "      <td>0.00</td>\n",
       "      <td>0.00</td>\n",
       "      <td>0.00</td>\n",
       "      <td>0.00</td>\n",
       "      <td>0.00</td>\n",
       "      <td>0.00</td>\n",
       "      <td>0.00</td>\n",
       "      <td>...</td>\n",
       "      <td>0.00</td>\n",
       "      <td>0.00</td>\n",
       "      <td>0.00</td>\n",
       "      <td>0.00</td>\n",
       "      <td>0.00</td>\n",
       "      <td>0.00</td>\n",
       "      <td>0.00</td>\n",
       "      <td>0.00</td>\n",
       "      <td>0.00</td>\n",
       "      <td>0.00</td>\n",
       "    </tr>\n",
       "    <tr>\n",
       "      <th>2</th>\n",
       "      <td>0</td>\n",
       "      <td>0.00</td>\n",
       "      <td>0.00</td>\n",
       "      <td>0.00</td>\n",
       "      <td>0.00</td>\n",
       "      <td>0.00</td>\n",
       "      <td>0.00</td>\n",
       "      <td>0.00</td>\n",
       "      <td>0.00</td>\n",
       "      <td>0.00</td>\n",
       "      <td>...</td>\n",
       "      <td>0.00</td>\n",
       "      <td>0.00</td>\n",
       "      <td>0.00</td>\n",
       "      <td>0.00</td>\n",
       "      <td>0.00</td>\n",
       "      <td>0.00</td>\n",
       "      <td>0.00</td>\n",
       "      <td>0.00</td>\n",
       "      <td>0.00</td>\n",
       "      <td>0.00</td>\n",
       "    </tr>\n",
       "    <tr>\n",
       "      <th>3</th>\n",
       "      <td>0</td>\n",
       "      <td>0.00</td>\n",
       "      <td>0.00</td>\n",
       "      <td>0.00</td>\n",
       "      <td>0.00</td>\n",
       "      <td>0.00</td>\n",
       "      <td>0.00</td>\n",
       "      <td>0.00</td>\n",
       "      <td>0.00</td>\n",
       "      <td>0.00</td>\n",
       "      <td>...</td>\n",
       "      <td>0.00</td>\n",
       "      <td>0.00</td>\n",
       "      <td>0.00</td>\n",
       "      <td>0.00</td>\n",
       "      <td>0.00</td>\n",
       "      <td>0.00</td>\n",
       "      <td>0.00</td>\n",
       "      <td>0.00</td>\n",
       "      <td>0.00</td>\n",
       "      <td>0.00</td>\n",
       "    </tr>\n",
       "    <tr>\n",
       "      <th>4</th>\n",
       "      <td>0</td>\n",
       "      <td>0.00</td>\n",
       "      <td>0.00</td>\n",
       "      <td>0.00</td>\n",
       "      <td>0.00</td>\n",
       "      <td>0.00</td>\n",
       "      <td>0.00</td>\n",
       "      <td>0.00</td>\n",
       "      <td>0.00</td>\n",
       "      <td>0.00</td>\n",
       "      <td>...</td>\n",
       "      <td>0.00</td>\n",
       "      <td>0.00</td>\n",
       "      <td>0.00</td>\n",
       "      <td>0.00</td>\n",
       "      <td>0.00</td>\n",
       "      <td>0.00</td>\n",
       "      <td>0.00</td>\n",
       "      <td>0.00</td>\n",
       "      <td>0.00</td>\n",
       "      <td>0.00</td>\n",
       "    </tr>\n",
       "  </tbody>\n",
       "</table>\n",
       "<p>5 rows × 9473 columns</p>\n",
       "</div>"
      ],
      "text/plain": [
       "   label    0  000  010   03  0500  0607   07   08    1  ...  zombuck  zone  \\\n",
       "0      0 0.00 0.00 0.00 0.00  0.00  0.00 0.00 0.00 0.00  ...     0.00  0.00   \n",
       "1      1 0.00 0.00 0.00 0.00  0.00  0.00 0.00 0.00 0.00  ...     0.00  0.00   \n",
       "2      0 0.00 0.00 0.00 0.00  0.00  0.00 0.00 0.00 0.00  ...     0.00  0.00   \n",
       "3      0 0.00 0.00 0.00 0.00  0.00  0.00 0.00 0.00 0.00  ...     0.00  0.00   \n",
       "4      0 0.00 0.00 0.00 0.00  0.00  0.00 0.00 0.00 0.00  ...     0.00  0.00   \n",
       "\n",
       "   zoolock  zoom  zooma  zouma  zubat  zucht  zusammenfassung  zwei  \n",
       "0     0.00  0.00   0.00   0.00   0.00   0.00             0.00  0.00  \n",
       "1     0.00  0.00   0.00   0.00   0.00   0.00             0.00  0.00  \n",
       "2     0.00  0.00   0.00   0.00   0.00   0.00             0.00  0.00  \n",
       "3     0.00  0.00   0.00   0.00   0.00   0.00             0.00  0.00  \n",
       "4     0.00  0.00   0.00   0.00   0.00   0.00             0.00  0.00  \n",
       "\n",
       "[5 rows x 9473 columns]"
      ]
     },
     "execution_count": 78,
     "metadata": {},
     "output_type": "execute_result"
    }
   ],
   "source": [
    "# Transformar em Dataframe\n",
    "df_msVetTfidf = pd.DataFrame(msvetdfidf.todense(), columns=vectorizerWC.get_feature_names_out())\n",
    "msTfidf = pd.concat([df5['label'], df_msVetTfidf], axis=1)\n",
    "msTfidf.head()"
   ]
  },
  {
   "cell_type": "markdown",
   "id": "43bbcefb-de94-47b2-9f2e-1912f2b2b794",
   "metadata": {},
   "source": [
    "## Qual é o top 10 palavras com valor TF-IDF (Em relação a todo corpus)"
   ]
  },
  {
   "cell_type": "code",
   "execution_count": 79,
   "id": "4305d4d7-df2e-4233-8d09-08c395443a5e",
   "metadata": {},
   "outputs": [
    {
     "data": {
      "text/html": [
       "<div>\n",
       "<style scoped>\n",
       "    .dataframe tbody tr th:only-of-type {\n",
       "        vertical-align: middle;\n",
       "    }\n",
       "\n",
       "    .dataframe tbody tr th {\n",
       "        vertical-align: top;\n",
       "    }\n",
       "\n",
       "    .dataframe thead th {\n",
       "        text-align: right;\n",
       "    }\n",
       "</style>\n",
       "<table border=\"1\" class=\"dataframe\">\n",
       "  <thead>\n",
       "    <tr style=\"text-align: right;\">\n",
       "      <th></th>\n",
       "      <th>TF-IDF</th>\n",
       "    </tr>\n",
       "  </thead>\n",
       "  <tbody>\n",
       "    <tr>\n",
       "      <th>kote</th>\n",
       "      <td>9.30</td>\n",
       "    </tr>\n",
       "    <tr>\n",
       "      <th>molest</th>\n",
       "      <td>9.30</td>\n",
       "    </tr>\n",
       "    <tr>\n",
       "      <th>monthdayyear</th>\n",
       "      <td>9.30</td>\n",
       "    </tr>\n",
       "    <tr>\n",
       "      <th>mont</th>\n",
       "      <td>9.30</td>\n",
       "    </tr>\n",
       "    <tr>\n",
       "      <th>monsta</th>\n",
       "      <td>9.30</td>\n",
       "    </tr>\n",
       "    <tr>\n",
       "      <th>monocl</th>\n",
       "      <td>9.30</td>\n",
       "    </tr>\n",
       "    <tr>\n",
       "      <th>monk</th>\n",
       "      <td>9.30</td>\n",
       "    </tr>\n",
       "    <tr>\n",
       "      <th>mongol</th>\n",
       "      <td>9.30</td>\n",
       "    </tr>\n",
       "    <tr>\n",
       "      <th>monger</th>\n",
       "      <td>9.30</td>\n",
       "    </tr>\n",
       "    <tr>\n",
       "      <th>monday</th>\n",
       "      <td>9.30</td>\n",
       "    </tr>\n",
       "  </tbody>\n",
       "</table>\n",
       "</div>"
      ],
      "text/plain": [
       "              TF-IDF\n",
       "kote            9.30\n",
       "molest          9.30\n",
       "monthdayyear    9.30\n",
       "mont            9.30\n",
       "monsta          9.30\n",
       "monocl          9.30\n",
       "monk            9.30\n",
       "mongol          9.30\n",
       "monger          9.30\n",
       "monday          9.30"
      ]
     },
     "execution_count": 79,
     "metadata": {},
     "output_type": "execute_result"
    }
   ],
   "source": [
    "top10 = pd.DataFrame(vectorizerTfidf.idf_, index= vectorizerWC.get_feature_names_out(), columns = ['TF-IDF'])\n",
    "top10.sort_values(by= ['TF-IDF'], ascending=False).head(10)\n"
   ]
  },
  {
   "cell_type": "markdown",
   "id": "3d888c51-75ad-4a71-abe2-14e92544da6a",
   "metadata": {},
   "source": [
    "## Text Mining"
   ]
  },
  {
   "cell_type": "markdown",
   "id": "d8c6940c-91d2-4d79-ab02-6a2a33ef05ff",
   "metadata": {},
   "source": [
    "# Escolher dois algoritmos de classificação  "
   ]
  },
  {
   "cell_type": "code",
   "execution_count": 80,
   "id": "6d11d174-1850-45fc-b59d-0833b9cf77e0",
   "metadata": {},
   "outputs": [],
   "source": [
    "# Criar função performance dos modelos\n",
    "def performance(model_name, y_val, y_pred):\n",
    "    #calcular as métricas\n",
    "    accuracy = accuracy_score(y_val, y_pred)\n",
    "    precision =precision_score(y_val, y_pred)\n",
    "    recall = recall_score(y_val, y_pred)\n",
    "    f1 = f1_score(y_val, y_pred)\n",
    "    #criar o dataframe\n",
    "\n",
    "    return pd.DataFrame({'Modelo': model_name,\n",
    "                         'Accuracy': [accuracy],\n",
    "                         'Precision': [precision],\n",
    "                         'Recall': [recall],\n",
    "                         'F1_score': [f1]\n",
    "    },index=[0])"
   ]
  },
  {
   "cell_type": "code",
   "execution_count": 94,
   "id": "0f5b4560-288f-49bc-b5a2-aabd07a65c93",
   "metadata": {},
   "outputs": [],
   "source": [
    "## Separando os dados em treino teste\n",
    "train_X_WC, test_X_WC, train_y_WC, test_y_WC = model_selection.train_test_split(msWC, df5.label.values, test_size=0.3)\n",
    "# Separando os dados em treino teste\n",
    "train_X_TFIDF, test_X_TFIDF, train_y_TFIDF, test_y_TFIDF = model_selection.train_test_split(msTfidf, df5.label.values, test_size=0.3)"
   ]
  },
  {
   "cell_type": "code",
   "execution_count": null,
   "id": "e1d12701-0988-40e4-8238-7b6e5c8a0cf6",
   "metadata": {},
   "outputs": [],
   "source": []
  },
  {
   "cell_type": "markdown",
   "id": "99dc9864-400e-40d8-b649-90afc73ca702",
   "metadata": {},
   "source": [
    "## Naive Bayes"
   ]
  },
  {
   "cell_type": "code",
   "execution_count": 83,
   "id": "c44b4df5-01f0-4be0-83b0-750696d4c2c4",
   "metadata": {},
   "outputs": [],
   "source": [
    "# Model Selection\n",
    "nb = naive_bayes.MultinomialNB()\n",
    "\n",
    "#Model fit\n",
    "nb.fit(train_X_WC,train_y_WC)\n",
    "\n",
    "#Model predict\n",
    "yhat_nb_wc = nb.predict(test_X_WC)\n",
    "\n"
   ]
  },
  {
   "cell_type": "code",
   "execution_count": 84,
   "id": "76ca8c8f-1200-424f-8a1d-0ad84234627e",
   "metadata": {},
   "outputs": [
    {
     "data": {
      "text/html": [
       "<div>\n",
       "<style scoped>\n",
       "    .dataframe tbody tr th:only-of-type {\n",
       "        vertical-align: middle;\n",
       "    }\n",
       "\n",
       "    .dataframe tbody tr th {\n",
       "        vertical-align: top;\n",
       "    }\n",
       "\n",
       "    .dataframe thead th {\n",
       "        text-align: right;\n",
       "    }\n",
       "</style>\n",
       "<table border=\"1\" class=\"dataframe\">\n",
       "  <thead>\n",
       "    <tr style=\"text-align: right;\">\n",
       "      <th></th>\n",
       "      <th>Modelo</th>\n",
       "      <th>Accuracy</th>\n",
       "      <th>Precision</th>\n",
       "      <th>Recall</th>\n",
       "      <th>F1_score</th>\n",
       "    </tr>\n",
       "  </thead>\n",
       "  <tbody>\n",
       "    <tr>\n",
       "      <th>0</th>\n",
       "      <td>Naive Bayes - WC</td>\n",
       "      <td>0.87</td>\n",
       "      <td>1.00</td>\n",
       "      <td>0.79</td>\n",
       "      <td>0.89</td>\n",
       "    </tr>\n",
       "  </tbody>\n",
       "</table>\n",
       "</div>"
      ],
      "text/plain": [
       "             Modelo  Accuracy  Precision  Recall  F1_score\n",
       "0  Naive Bayes - WC      0.87       1.00    0.79      0.89"
      ]
     },
     "execution_count": 84,
     "metadata": {},
     "output_type": "execute_result"
    }
   ],
   "source": [
    "nbwc_reuslt = performance('Naive Bayes - WC',yhat_nb_wc, test_y_WC)"
   ]
  },
  {
   "cell_type": "code",
   "execution_count": 85,
   "id": "e40eaa18-14e4-44c5-8d14-5a95ed2ece39",
   "metadata": {},
   "outputs": [],
   "source": [
    "# Model Selection\n",
    "nb = naive_bayes.MultinomialNB()\n",
    "\n",
    "#Model fit\n",
    "nb.fit(train_X_TFIDF,train_y_TFIDF)\n",
    "\n",
    "#Model predict\n",
    "yhat_nb_TFIDF = nb.predict(test_X_TFIDF)"
   ]
  },
  {
   "cell_type": "code",
   "execution_count": 142,
   "id": "2b1b37ce-a58f-4d39-b16e-d51b896b6a54",
   "metadata": {},
   "outputs": [],
   "source": [
    "nb_tfidf_result = performance('Naive Bayes - TF-IDF ',yhat_nb_TFIDF, test_y_TFIDF )"
   ]
  },
  {
   "cell_type": "code",
   "execution_count": 143,
   "id": "2f783ec2-2751-4dc3-85fd-0d6aea35504a",
   "metadata": {},
   "outputs": [
    {
     "data": {
      "text/html": [
       "<div>\n",
       "<style scoped>\n",
       "    .dataframe tbody tr th:only-of-type {\n",
       "        vertical-align: middle;\n",
       "    }\n",
       "\n",
       "    .dataframe tbody tr th {\n",
       "        vertical-align: top;\n",
       "    }\n",
       "\n",
       "    .dataframe thead th {\n",
       "        text-align: right;\n",
       "    }\n",
       "</style>\n",
       "<table border=\"1\" class=\"dataframe\">\n",
       "  <thead>\n",
       "    <tr style=\"text-align: right;\">\n",
       "      <th></th>\n",
       "      <th>Modelo</th>\n",
       "      <th>Accuracy</th>\n",
       "      <th>Precision</th>\n",
       "      <th>Recall</th>\n",
       "      <th>F1_score</th>\n",
       "    </tr>\n",
       "  </thead>\n",
       "  <tbody>\n",
       "    <tr>\n",
       "      <th>0</th>\n",
       "      <td>Naive Bayes - TF-IDF</td>\n",
       "      <td>0.89</td>\n",
       "      <td>1.00</td>\n",
       "      <td>0.82</td>\n",
       "      <td>0.90</td>\n",
       "    </tr>\n",
       "  </tbody>\n",
       "</table>\n",
       "</div>"
      ],
      "text/plain": [
       "                  Modelo  Accuracy  Precision  Recall  F1_score\n",
       "0  Naive Bayes - TF-IDF       0.89       1.00    0.82      0.90"
      ]
     },
     "execution_count": 143,
     "metadata": {},
     "output_type": "execute_result"
    }
   ],
   "source": [
    "nb_tfidf_result"
   ]
  },
  {
   "cell_type": "markdown",
   "id": "5f986b82-6dba-4261-ba05-2b24a0122619",
   "metadata": {},
   "source": [
    "## SVM"
   ]
  },
  {
   "cell_type": "code",
   "execution_count": 89,
   "id": "d96c41e7-0bbc-494d-a702-b54099c032bf",
   "metadata": {},
   "outputs": [],
   "source": [
    "# Model Selection\n",
    "svmtfidf = svm.SVC(C=2.0, kernel='linear', degree=3, gamma ='auto')\n",
    "\n",
    "#Model fit\n",
    "svmtfidf.fit(train_X_TFIDF,train_y_TFIDF)\n",
    "\n",
    "#Model predict\n",
    "yhat_svm_TFIDF = svmtfidf.predict(test_X_TFIDF)\n"
   ]
  },
  {
   "cell_type": "code",
   "execution_count": 90,
   "id": "bea7c09e-a942-477c-ab1f-674d13d74219",
   "metadata": {},
   "outputs": [
    {
     "data": {
      "text/html": [
       "<div>\n",
       "<style scoped>\n",
       "    .dataframe tbody tr th:only-of-type {\n",
       "        vertical-align: middle;\n",
       "    }\n",
       "\n",
       "    .dataframe tbody tr th {\n",
       "        vertical-align: top;\n",
       "    }\n",
       "\n",
       "    .dataframe thead th {\n",
       "        text-align: right;\n",
       "    }\n",
       "</style>\n",
       "<table border=\"1\" class=\"dataframe\">\n",
       "  <thead>\n",
       "    <tr style=\"text-align: right;\">\n",
       "      <th></th>\n",
       "      <th>Modelo</th>\n",
       "      <th>Accuracy</th>\n",
       "      <th>Precision</th>\n",
       "      <th>Recall</th>\n",
       "      <th>F1_score</th>\n",
       "    </tr>\n",
       "  </thead>\n",
       "  <tbody>\n",
       "    <tr>\n",
       "      <th>0</th>\n",
       "      <td>SVM - TF-IDF</td>\n",
       "      <td>1.00</td>\n",
       "      <td>1.00</td>\n",
       "      <td>1.00</td>\n",
       "      <td>1.00</td>\n",
       "    </tr>\n",
       "  </tbody>\n",
       "</table>\n",
       "</div>"
      ],
      "text/plain": [
       "          Modelo  Accuracy  Precision  Recall  F1_score\n",
       "0  SVM - TF-IDF       1.00       1.00    1.00      1.00"
      ]
     },
     "execution_count": 90,
     "metadata": {},
     "output_type": "execute_result"
    }
   ],
   "source": [
    "svm_TFIDF_result = performance('SVM - TF-IDF ',yhat_svm_TFIDF, test_y_TFIDF)\n",
    "svm_TFIDF_result"
   ]
  },
  {
   "cell_type": "code",
   "execution_count": 91,
   "id": "737013a7-c9d7-4ed4-94d5-225ffb57aa59",
   "metadata": {},
   "outputs": [],
   "source": [
    "# Model Selection\n",
    "svmwc = svm.SVC(C=1.0, kernel='linear', degree=5, gamma ='auto')\n",
    "\n",
    "#Model fit\n",
    "svmwc.fit(train_X_WC,train_y_WC)\n",
    "\n",
    "#Model predict\n",
    "yhat_svm_WC = svmwc.predict(test_X_WC)"
   ]
  },
  {
   "cell_type": "code",
   "execution_count": 92,
   "id": "1a9a5b09-7f6d-4c8a-b002-68037a5b9702",
   "metadata": {},
   "outputs": [],
   "source": [
    "svmwc_result = performance('SVM - WC', yhat_svm_WC, test_y_WC )"
   ]
  },
  {
   "cell_type": "code",
   "execution_count": 93,
   "id": "ce8318a0-9fa1-4791-98da-a1997236a39e",
   "metadata": {},
   "outputs": [
    {
     "data": {
      "text/html": [
       "<div>\n",
       "<style scoped>\n",
       "    .dataframe tbody tr th:only-of-type {\n",
       "        vertical-align: middle;\n",
       "    }\n",
       "\n",
       "    .dataframe tbody tr th {\n",
       "        vertical-align: top;\n",
       "    }\n",
       "\n",
       "    .dataframe thead th {\n",
       "        text-align: right;\n",
       "    }\n",
       "</style>\n",
       "<table border=\"1\" class=\"dataframe\">\n",
       "  <thead>\n",
       "    <tr style=\"text-align: right;\">\n",
       "      <th></th>\n",
       "      <th>Modelo</th>\n",
       "      <th>Accuracy</th>\n",
       "      <th>Precision</th>\n",
       "      <th>Recall</th>\n",
       "      <th>F1_score</th>\n",
       "    </tr>\n",
       "  </thead>\n",
       "  <tbody>\n",
       "    <tr>\n",
       "      <th>0</th>\n",
       "      <td>SVM - WC</td>\n",
       "      <td>1.00</td>\n",
       "      <td>1.00</td>\n",
       "      <td>1.00</td>\n",
       "      <td>1.00</td>\n",
       "    </tr>\n",
       "  </tbody>\n",
       "</table>\n",
       "</div>"
      ],
      "text/plain": [
       "     Modelo  Accuracy  Precision  Recall  F1_score\n",
       "0  SVM - WC      1.00       1.00    1.00      1.00"
      ]
     },
     "execution_count": 93,
     "metadata": {},
     "output_type": "execute_result"
    }
   ],
   "source": [
    "svmwc_result "
   ]
  },
  {
   "cell_type": "markdown",
   "id": "7eb2ece5-62ed-4e73-952b-662dea236dcc",
   "metadata": {},
   "source": [
    "# Redução de dimensionalidade - PCA"
   ]
  },
  {
   "cell_type": "code",
   "execution_count": 111,
   "id": "cfee422a-27a3-403e-bf47-8019b8095ab9",
   "metadata": {},
   "outputs": [],
   "source": [
    "df_pca = msWC.copy()"
   ]
  },
  {
   "cell_type": "code",
   "execution_count": 114,
   "id": "eb3394e2-7f44-4278-89b5-d6a0384d172c",
   "metadata": {},
   "outputs": [],
   "source": [
    "# Padronizar os dados (é importante para o PCA)\n",
    "scaler = StandardScaler()\n",
    "all_X_WC_standardized = scaler.fit_transform(df_pca)\n",
    "\n",
    "# Aplicar PCA\n",
    "num_components = 10  # Número desejado de componentes principais\n",
    "pca = PCA(n_components=num_components)\n",
    "all_X_WC_pca = pca.fit_transform(all_X_WC_standardized)\n",
    "\n",
    "# Dividir novamente os dados de treino e teste\n",
    "train_X_WC_pca, test_X_WC_pca, train_y_WC, test_y_WC = train_test_split(\n",
    "    all_X_WC_pca, np.concatenate((train_y_WC, test_y_WC), axis=0), test_size=0.2, random_state=42)"
   ]
  },
  {
   "cell_type": "markdown",
   "id": "d6e59adc-b020-48f5-9003-9fd67c78b454",
   "metadata": {},
   "source": [
    "## SVM"
   ]
  },
  {
   "cell_type": "code",
   "execution_count": 125,
   "id": "7cc71c1f-b17b-40cf-bb31-bb9fadf1cf55",
   "metadata": {},
   "outputs": [],
   "source": [
    "# Model Selection\n",
    "svmwc_pca = svm.SVC(kernel='linear', C=1.0, degree=5, gamma ='auto',random_state=42)\n",
    "\n",
    "#Model fit\n",
    "svmwc_pca.fit(train_X_WC_pca, train_y_WC)\n",
    "\n",
    "#Model predict\n",
    "yhat_svm_WC_pca = svmwc_pca.predict(test_X_WC_pca)"
   ]
  },
  {
   "cell_type": "code",
   "execution_count": 140,
   "id": "f9bffd85-9654-4877-9c1c-f0f445ca8573",
   "metadata": {},
   "outputs": [],
   "source": [
    "svm_pca_result = performance('SVM - WC -PCA', yhat_svm_WC_pca, test_y_WC )"
   ]
  },
  {
   "cell_type": "markdown",
   "id": "4f8a7f40-fbd8-40c8-81fe-a53f4381d305",
   "metadata": {},
   "source": [
    "## Naive Bayes"
   ]
  },
  {
   "cell_type": "code",
   "execution_count": 127,
   "id": "6ee63c3e-2768-46d0-aee4-c4f9443a99d1",
   "metadata": {},
   "outputs": [],
   "source": [
    "from sklearn.naive_bayes import GaussianNB"
   ]
  },
  {
   "cell_type": "code",
   "execution_count": 137,
   "id": "dc44218e-f9ef-47d4-a5fc-94dfd88c67fc",
   "metadata": {},
   "outputs": [],
   "source": [
    "# Model Selection\n",
    "nb_pca = naive_bayes.GaussianNB()\n",
    "\n",
    "#Model fit\n",
    "nb_pca.fit(train_X_WC_pca,train_y_WC)\n",
    "\n",
    "#Model predict\n",
    "yhat_nb_wc_pca = nb_pca.predict(test_X_WC_pca)\n"
   ]
  },
  {
   "cell_type": "code",
   "execution_count": 139,
   "id": "2b614db3-3c48-48aa-898d-91107ee4e30b",
   "metadata": {},
   "outputs": [],
   "source": [
    "nb_pca_result = performance('Naive Bayes - Gaussian - WC -PCA', yhat_nb_wc_pca, test_y_WC )"
   ]
  },
  {
   "cell_type": "markdown",
   "id": "5500b9b9-a4a6-41d8-bcbd-c7daa0c23f35",
   "metadata": {},
   "source": [
    "## Compare Performance"
   ]
  },
  {
   "cell_type": "code",
   "execution_count": 146,
   "id": "c9b7908f-ac99-4169-942e-8caa456aadc8",
   "metadata": {},
   "outputs": [
    {
     "data": {
      "text/html": [
       "<div>\n",
       "<style scoped>\n",
       "    .dataframe tbody tr th:only-of-type {\n",
       "        vertical-align: middle;\n",
       "    }\n",
       "\n",
       "    .dataframe tbody tr th {\n",
       "        vertical-align: top;\n",
       "    }\n",
       "\n",
       "    .dataframe thead th {\n",
       "        text-align: right;\n",
       "    }\n",
       "</style>\n",
       "<table border=\"1\" class=\"dataframe\">\n",
       "  <thead>\n",
       "    <tr style=\"text-align: right;\">\n",
       "      <th></th>\n",
       "      <th>Modelo</th>\n",
       "      <th>Accuracy</th>\n",
       "      <th>Precision</th>\n",
       "      <th>Recall</th>\n",
       "      <th>F1_score</th>\n",
       "    </tr>\n",
       "  </thead>\n",
       "  <tbody>\n",
       "    <tr>\n",
       "      <th>0</th>\n",
       "      <td>Naive Bayes - WC</td>\n",
       "      <td>0.87</td>\n",
       "      <td>1.00</td>\n",
       "      <td>0.79</td>\n",
       "      <td>0.89</td>\n",
       "    </tr>\n",
       "    <tr>\n",
       "      <th>0</th>\n",
       "      <td>SVM - WC</td>\n",
       "      <td>1.00</td>\n",
       "      <td>1.00</td>\n",
       "      <td>1.00</td>\n",
       "      <td>1.00</td>\n",
       "    </tr>\n",
       "    <tr>\n",
       "      <th>0</th>\n",
       "      <td>Naive Bayes - TF-IDF</td>\n",
       "      <td>0.89</td>\n",
       "      <td>1.00</td>\n",
       "      <td>0.82</td>\n",
       "      <td>0.90</td>\n",
       "    </tr>\n",
       "    <tr>\n",
       "      <th>0</th>\n",
       "      <td>SVM - TF-IDF</td>\n",
       "      <td>1.00</td>\n",
       "      <td>1.00</td>\n",
       "      <td>1.00</td>\n",
       "      <td>1.00</td>\n",
       "    </tr>\n",
       "    <tr>\n",
       "      <th>0</th>\n",
       "      <td>SVM - WC -PCA</td>\n",
       "      <td>0.51</td>\n",
       "      <td>1.00</td>\n",
       "      <td>0.51</td>\n",
       "      <td>0.68</td>\n",
       "    </tr>\n",
       "    <tr>\n",
       "      <th>0</th>\n",
       "      <td>Naive Bayes - Gaussian - WC -PCA</td>\n",
       "      <td>0.50</td>\n",
       "      <td>0.04</td>\n",
       "      <td>0.56</td>\n",
       "      <td>0.08</td>\n",
       "    </tr>\n",
       "  </tbody>\n",
       "</table>\n",
       "</div>"
      ],
      "text/plain": [
       "                             Modelo  Accuracy  Precision  Recall  F1_score\n",
       "0                  Naive Bayes - WC      0.87       1.00    0.79      0.89\n",
       "0                          SVM - WC      1.00       1.00    1.00      1.00\n",
       "0             Naive Bayes - TF-IDF       0.89       1.00    0.82      0.90\n",
       "0                     SVM - TF-IDF       1.00       1.00    1.00      1.00\n",
       "0                     SVM - WC -PCA      0.51       1.00    0.51      0.68\n",
       "0  Naive Bayes - Gaussian - WC -PCA      0.50       0.04    0.56      0.08"
      ]
     },
     "execution_count": 146,
     "metadata": {},
     "output_type": "execute_result"
    }
   ],
   "source": [
    "result = pd.concat( [nbwc_reuslt,svmwc_result , nb_tfidf_result,svm_TFIDF_result, svm_pca_result, nb_pca_result ] )\n",
    "result "
   ]
  },
  {
   "cell_type": "code",
   "execution_count": null,
   "id": "aa807b33-4888-40b9-bf54-15a716071bb7",
   "metadata": {},
   "outputs": [],
   "source": []
  }
 ],
 "metadata": {
  "kernelspec": {
   "display_name": "Python 3 (ipykernel)",
   "language": "python",
   "name": "python3"
  },
  "language_info": {
   "codemirror_mode": {
    "name": "ipython",
    "version": 3
   },
   "file_extension": ".py",
   "mimetype": "text/x-python",
   "name": "python",
   "nbconvert_exporter": "python",
   "pygments_lexer": "ipython3",
   "version": "3.10.9"
  }
 },
 "nbformat": 4,
 "nbformat_minor": 5
}
